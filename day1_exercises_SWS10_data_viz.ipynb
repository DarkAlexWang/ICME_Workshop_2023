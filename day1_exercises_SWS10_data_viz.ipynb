{
  "nbformat": 4,
  "nbformat_minor": 0,
  "metadata": {
    "colab": {
      "provenance": [],
      "include_colab_link": true
    },
    "kernelspec": {
      "name": "python3",
      "display_name": "Python 3"
    },
    "language_info": {
      "name": "python"
    }
  },
  "cells": [
    {
      "cell_type": "markdown",
      "metadata": {
        "id": "view-in-github",
        "colab_type": "text"
      },
      "source": [
        "<a href=\"https://colab.research.google.com/github/DarkAlexWang/ICME_Workshop_2023/blob/main/day1_exercises_SWS10_data_viz.ipynb\" target=\"_parent\"><img src=\"https://colab.research.google.com/assets/colab-badge.svg\" alt=\"Open In Colab\"/></a>"
      ]
    },
    {
      "cell_type": "markdown",
      "source": [
        "## Set Up"
      ],
      "metadata": {
        "id": "8H45_W0Fazj7"
      }
    },
    {
      "cell_type": "code",
      "execution_count": null,
      "metadata": {
        "id": "UfLMY5K4A4Aq"
      },
      "outputs": [],
      "source": [
        "!pip install --upgrade Pillow\n",
        "!pip install ydata_profiling"
      ]
    },
    {
      "cell_type": "code",
      "source": [
        "import pandas as pd\n",
        "import numpy as np\n",
        "import matplotlib.pyplot as plt\n",
        "import seaborn as sns\n",
        "from ydata_profiling import ProfileReport\n",
        "\n",
        "sns.set_theme()"
      ],
      "metadata": {
        "id": "TUIw1SW_E25g"
      },
      "execution_count": null,
      "outputs": []
    },
    {
      "cell_type": "markdown",
      "source": [
        "## Load Data"
      ],
      "metadata": {
        "id": "6yeX_jMLa4NB"
      }
    },
    {
      "cell_type": "code",
      "source": [
        "df = pd.read_csv(\"https://raw.githubusercontent.com/tsornwanee/icme-data-visualization/main/docs/airline_delay_data.csv\")"
      ],
      "metadata": {
        "id": "4hawF7JDBYFm"
      },
      "execution_count": null,
      "outputs": []
    },
    {
      "cell_type": "code",
      "source": [
        "df"
      ],
      "metadata": {
        "id": "HeEVED-4Cqga"
      },
      "execution_count": null,
      "outputs": []
    },
    {
      "cell_type": "markdown",
      "source": [
        "## Data Dictionary\n",
        "\n",
        "|Column| Description |\n",
        "| --- | ---|\n",
        "| day_of_month| Day of Month|\n",
        "|day_of_week |\tDay of Week |\n",
        "|op_unique_carrier |\tUnique Carrier Code. When the same code has been used by  multiple carriers, a numeric suffix is used for earlier users, for example, PA, PA(1), PA(2). Use this field for analysis across a range of years.|\n",
        "|origin_city_name |\tOrigin Airport, City Name |\n",
        "|origin_state_abr |\tOrigin Airport, State Code |\n",
        "|dest_city_name |\tDestination Airport, City Name |\n",
        "|dest_state_abr |\tDestination Airport, State Code |\n",
        "|crs_dep_time |\tCRS Departure Time (local time: hhmm) |\n",
        "|dep_delay |\tDifference in minutes between scheduled and actual departure  time. Early departures show negative numbers. |\n",
        "|crs_arr_time |\tCRS Arrival Time (local time: hhmm) |\n",
        "|arr_delay |\tDifference in minutes between scheduled and actual arrival time.  Early arrivals show negative numbers. |\n",
        "|crs_elapsed_time |\tCRS Elapsed Time of Flight, in Minutes |\n",
        "|actual_elapsed_time |\tElapsed Time of Flight, in Minutes |\n",
        "|air_time |\tFlight Time, in Minutes |\n",
        "|distance |\tDistance between airports (miles)\n",
        "|carrier_delay |\tCarrier Delay, in Minutes |\n",
        "|weather_delay |\tWeather Delay, in Minutes |\n",
        "|nas_delay |\tNational Air System Delay, in Minutes |\n",
        "|security_delay |\tSecurity Delay, in Minutes |\n",
        "|late_aircraft_delay |\tLate Aircraft Delay, in Minutes |"
      ],
      "metadata": {
        "id": "K5dVrX5Qc5Ph"
      }
    },
    {
      "cell_type": "markdown",
      "source": [
        "## A quick overview – `ydata-profiling`"
      ],
      "metadata": {
        "id": "_ZyErRpwa81Z"
      }
    },
    {
      "cell_type": "code",
      "source": [
        "# Create a ydata profile report\n",
        "# Example:\n",
        "#    profile = ProfileReport(df, title=\"Weather Anomalies Report\")\n",
        "\n",
        "### Your code here ###\n",
        "\n",
        "######################"
      ],
      "metadata": {
        "id": "Lag8VCG0C7yl"
      },
      "execution_count": null,
      "outputs": []
    },
    {
      "cell_type": "code",
      "source": [
        "# View your profile report\n",
        "# Example:\n",
        "#    profile.to_notebook_iframe()\n",
        "\n",
        "### Your code here ###\n",
        "\n",
        "######################"
      ],
      "metadata": {
        "id": "37mAUrAXDuWm"
      },
      "execution_count": null,
      "outputs": []
    },
    {
      "cell_type": "markdown",
      "source": [
        "# Your space for additional analysis"
      ],
      "metadata": {
        "id": "aax09GzdDUIk"
      }
    },
    {
      "cell_type": "code",
      "source": [],
      "metadata": {
        "id": "GCPN9j_REKfp"
      },
      "execution_count": null,
      "outputs": []
    }
  ]
}